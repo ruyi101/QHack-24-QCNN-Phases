{
 "cells": [
  {
   "cell_type": "code",
   "execution_count": 1,
   "metadata": {},
   "outputs": [],
   "source": [
    "import pennylane as qml\n",
    "from pennylane.templates.embeddings import AmplitudeEmbedding\n",
    "from sklearn.model_selection import train_test_split"
   ]
  },
  {
   "cell_type": "code",
   "execution_count": 2,
   "metadata": {},
   "outputs": [],
   "source": [
    "from utils import Benchmarking\n",
    "        \n",
    "\n",
    "    "
   ]
  },
  {
   "cell_type": "code",
   "execution_count": 3,
   "metadata": {},
   "outputs": [
    {
     "name": "stdout",
     "output_type": "stream",
     "text": [
      "Embedding: Statevector\n",
      "\n",
      "\n",
      "Loss History for QCNN circuits, q_SU4 with cross_entropy, 1 repeated layers\n"
     ]
    },
    {
     "name": "stderr",
     "output_type": "stream",
     "text": [
      "/Users/yaohong/opt/anaconda3/envs/qml/lib/python3.10/site-packages/autograd/numpy/numpy_vjps.py:698: ComplexWarning: Casting complex values to real discards the imaginary part\n",
      "  onp.add.at(A, idx, x)\n"
     ]
    },
    {
     "name": "stdout",
     "output_type": "stream",
     "text": [
      "iteration:  0  cost:  16.130616134725166\n",
      "iteration:  10  cost:  13.907277222671926\n",
      "iteration:  20  cost:  12.340703907564261\n",
      "iteration:  30  cost:  11.996602829207266\n",
      "iteration:  40  cost:  10.211020487833183\n",
      "iteration:  50  cost:  11.299956029991478\n",
      "iteration:  60  cost:  10.600375300565577\n",
      "iteration:  70  cost:  10.60040985446438\n",
      "iteration:  80  cost:  9.851547746011803\n",
      "iteration:  90  cost:  12.385320412966857\n",
      "iteration:  100  cost:  12.428009527589609\n",
      "iteration:  110  cost:  13.313856680057897\n",
      "iteration:  120  cost:  12.099257753552568\n",
      "iteration:  130  cost:  9.927303339659659\n",
      "iteration:  140  cost:  13.433977618205777\n",
      "iteration:  150  cost:  11.777601570731633\n",
      "iteration:  160  cost:  9.075416439842432\n",
      "iteration:  170  cost:  9.834545900009207\n",
      "iteration:  180  cost:  11.818513469853114\n",
      "iteration:  190  cost:  10.961902867292867\n",
      "iteration:  200  cost:  12.372915927712164\n",
      "iteration:  210  cost:  12.70860966700997\n",
      "iteration:  220  cost:  10.456192197447628\n",
      "iteration:  230  cost:  11.59842623737499\n",
      "iteration:  240  cost:  12.761765612499415\n",
      "iteration:  250  cost:  12.29800839660571\n",
      "iteration:  260  cost:  9.657805782655746\n",
      "iteration:  270  cost:  12.09384531306627\n",
      "iteration:  280  cost:  11.764323996077726\n",
      "iteration:  290  cost:  12.21875759570993\n",
      "iteration:  300  cost:  9.988407612733097\n",
      "iteration:  310  cost:  9.683700758068634\n",
      "iteration:  320  cost:  12.416787743725182\n",
      "iteration:  330  cost:  9.843766423567171\n",
      "iteration:  340  cost:  10.402361101310273\n",
      "iteration:  350  cost:  10.871729017351809\n",
      "iteration:  360  cost:  13.456874617663997\n",
      "iteration:  370  cost:  10.71758068991901\n",
      "iteration:  380  cost:  12.127762377112603\n",
      "iteration:  390  cost:  10.808759101032045\n",
      "iteration:  400  cost:  10.029415300415653\n",
      "iteration:  410  cost:  9.307637382657989\n",
      "iteration:  420  cost:  12.262564868686916\n",
      "iteration:  430  cost:  9.610811619384299\n",
      "iteration:  440  cost:  10.325387264914623\n",
      "iteration:  450  cost:  10.914244143389356\n",
      "iteration:  460  cost:  11.941987792726461\n",
      "iteration:  470  cost:  11.250938267455357\n",
      "iteration:  480  cost:  9.682629817313737\n",
      "iteration:  490  cost:  11.655838219106519\n",
      "Accuracy for q_SU4 :0.783\n"
     ]
    }
   ],
   "source": [
    "# Unitaries = ['U_SU4', 'U_SU4_1D', 'U_SU4_no_pooling', 'U_9_1D']\n",
    "# Unitaries = ['U_SU4', 'U_SU4_1D', 'U_SU4_no_pooling']\n",
    "Unitaries = ['q_SU4']\n",
    "# Unitaries = ['U_SU4']\n",
    "U_num_params = [15, 15, 15, 15]\n",
    "# Encodings = ['Amplitude']\n",
    "Encodings = ['Statevector']\n",
    "# dataset = 'Ising'\n",
    "# dataset = 'SPT'\n",
    "# cost_fn = 'mse'\n",
    "cost_fn = 'cross_entropy'\n",
    "# circuit = 'Hierarchical'\n",
    "circuit = 'QCNN'\n",
    "binary = True\n",
    "\n",
    "\n",
    "\n",
    "\n",
    "for dataset in ['SPT']: \n",
    "    Benchmarking.Benchmarking(dataset,  Unitaries, U_num_params, Embeddings=Encodings, circuit=circuit, cost_fn=cost_fn, nums_layer = 1, binary = binary)"
   ]
  },
  {
   "cell_type": "code",
   "execution_count": null,
   "metadata": {},
   "outputs": [],
   "source": []
  }
 ],
 "metadata": {
  "kernelspec": {
   "display_name": "qml",
   "language": "python",
   "name": "python3"
  },
  "language_info": {
   "codemirror_mode": {
    "name": "ipython",
    "version": 3
   },
   "file_extension": ".py",
   "mimetype": "text/x-python",
   "name": "python",
   "nbconvert_exporter": "python",
   "pygments_lexer": "ipython3",
   "version": "3.10.12"
  }
 },
 "nbformat": 4,
 "nbformat_minor": 2
}
