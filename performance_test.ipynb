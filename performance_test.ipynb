{
 "cells": [
  {
   "cell_type": "code",
   "execution_count": 1,
   "metadata": {},
   "outputs": [],
   "source": [
    "import pennylane as qml\n",
    "from pennylane import numpy as np\n",
    "import matplotlib.pyplot as plt\n",
    "\n",
    "from timeit import default_timer as timer"
   ]
  },
  {
   "cell_type": "code",
   "execution_count": 2,
   "metadata": {},
   "outputs": [],
   "source": [
    "def U_SU4(params, wires): # 15 params\n",
    "    qml.U3(params[0], params[1], params[2], wires=wires[0])\n",
    "    qml.U3(params[3], params[4], params[5], wires=wires[1])\n",
    "    qml.CNOT(wires=[wires[0], wires[1]])\n",
    "    qml.RY(params[6], wires=wires[0])\n",
    "    qml.RZ(params[7], wires=wires[1])\n",
    "    qml.CNOT(wires=[wires[1], wires[0]])\n",
    "    qml.RY(params[8], wires=wires[0])\n",
    "    qml.CNOT(wires=[wires[0], wires[1]])\n",
    "    qml.U3(params[9], params[10], params[11], wires=wires[0])\n",
    "    qml.U3(params[12], params[13], params[14], wires=wires[1])"
   ]
  },
  {
   "cell_type": "code",
   "execution_count": 3,
   "metadata": {},
   "outputs": [
    {
     "name": "stdout",
     "output_type": "stream",
     "text": [
      "[49.71042813101667, 226.78559602500172]\n"
     ]
    }
   ],
   "source": [
    "\n",
    "runtime = []\n",
    "num_qubits_list = [26, 28]\n",
    "layers = 1\n",
    "\n",
    "for num_qubits in num_qubits_list:\n",
    "    dev = qml.device('lightning.qubit', wires = num_qubits)\n",
    "    @qml.qnode(dev)\n",
    "    def test_circuit(num_qubits, params, num_layers = 1):\n",
    "        \n",
    "        assert len(params) == num_layers, 'Please inlcude enough parameters.'\n",
    "        \n",
    "        for layer in range(num_layers):\n",
    "            for i in range(num_qubits):\n",
    "                U_SU4(params[layer], wires = [i, (i+1)%num_qubits])\n",
    "        \n",
    "        return qml.expval(qml.PauliZ(num_qubits//2))\n",
    "\n",
    "    params = np.random.randn(layers, 15)\n",
    "    start = timer()\n",
    "    test_circuit(num_qubits, params, num_layers = layers)\n",
    "    end = timer()\n",
    "    runtime.append(end-start)\n",
    "\n",
    "print(runtime)\n"
   ]
  },
  {
   "cell_type": "code",
   "execution_count": 7,
   "metadata": {},
   "outputs": [
    {
     "name": "stdout",
     "output_type": "stream",
     "text": [
      "[0.05582171300193295, 0.10432962898630649, 0.09103461899212562, 0.11962385798688047, 0.14463058701949194, 0.24099105701316148, 0.2023341190069914, 0.23731914500240237, 0.3329276040021796, 0.32456355399335735, 0.41494158998830244, 0.3700402670074254, 0.4686475589987822, 0.5180190780083649, 0.5362069490074646, 0.49542554101208225, 0.5869663889752701, 0.6331782680063043, 0.6576253270031884, 0.6860315490048379, 0.7403731510275975, 0.9371111099899281, 0.8006396830023732, 0.8196441329782829, 0.8089318489946891, 0.8900971440016292, 0.9727091840177309, 0.9506374199991114, 1.0509357200062368, 0.9895601469906978, 1.003516569006024, 1.15353661600966, 1.1379314319929108, 1.100120388000505, 1.2505534929805435, 1.2433292630012147, 1.234391058998881, 1.2799083230202086, 1.2388165229931474, 1.3599615969869774, 1.4254126960004214, 1.3578128270164598, 1.4987870260083582, 1.3910128060088027, 1.5287610390223563, 1.4507471379765775, 1.4781060210079886, 1.5103272720007226, 1.5227974700101186]\n"
     ]
    }
   ],
   "source": [
    "runtime = []\n",
    "num_qubits = 16\n",
    "layers_list = np.arange(1, 50)\n",
    "\n",
    "for layers in layers_list:\n",
    "    dev = qml.device('lightning.qubit', wires = num_qubits)\n",
    "    @qml.qnode(dev)\n",
    "    def test_circuit(num_qubits, params, num_layers = 1):\n",
    "        \n",
    "        assert len(params) == num_layers, 'Please inlcude enough parameters.'\n",
    "        \n",
    "        for layer in range(num_layers):\n",
    "            for i in range(num_qubits):\n",
    "                U_SU4(params[layer], wires = [i, (i+1)%num_qubits])\n",
    "        \n",
    "        return qml.expval(qml.PauliZ(num_qubits//2))\n",
    "\n",
    "    params = np.random.randn(layers, 15)\n",
    "    start = timer()\n",
    "    test_circuit(num_qubits, params, num_layers = layers)\n",
    "    end = timer()\n",
    "    runtime.append(end-start)\n",
    "\n",
    "print(runtime)"
   ]
  },
  {
   "cell_type": "code",
   "execution_count": 3,
   "metadata": {},
   "outputs": [
    {
     "name": "stdout",
     "output_type": "stream",
     "text": [
      "Name: PennyLane\n",
      "Version: 0.34.0\n",
      "Summary: PennyLane is a Python quantum machine learning library by Xanadu Inc.\n",
      "Home-page: https://github.com/PennyLaneAI/pennylane\n",
      "Author: \n",
      "Author-email: \n",
      "License: Apache License 2.0\n",
      "Location: /Users/yaohong/opt/anaconda3/envs/qml/lib/python3.10/site-packages\n",
      "Requires: appdirs, autograd, autoray, cachetools, networkx, numpy, pennylane-lightning, requests, rustworkx, scipy, semantic-version, toml, typing-extensions\n",
      "Required-by: PennyLane-Lightning\n",
      "\n",
      "Platform info:           macOS-10.16-x86_64-i386-64bit\n",
      "Python version:          3.10.12\n",
      "Numpy version:           1.26.3\n",
      "Scipy version:           1.11.1\n",
      "Installed devices:\n",
      "- lightning.qubit (PennyLane-Lightning-0.34.0)\n",
      "- default.gaussian (PennyLane-0.34.0)\n",
      "- default.mixed (PennyLane-0.34.0)\n",
      "- default.qubit (PennyLane-0.34.0)\n",
      "- default.qubit.autograd (PennyLane-0.34.0)\n",
      "- default.qubit.jax (PennyLane-0.34.0)\n",
      "- default.qubit.legacy (PennyLane-0.34.0)\n",
      "- default.qubit.tf (PennyLane-0.34.0)\n",
      "- default.qubit.torch (PennyLane-0.34.0)\n",
      "- default.qutrit (PennyLane-0.34.0)\n",
      "- null.qubit (PennyLane-0.34.0)\n"
     ]
    }
   ],
   "source": [
    "qml.about()"
   ]
  },
  {
   "cell_type": "code",
   "execution_count": null,
   "metadata": {},
   "outputs": [],
   "source": []
  }
 ],
 "metadata": {
  "kernelspec": {
   "display_name": "qml",
   "language": "python",
   "name": "python3"
  },
  "language_info": {
   "codemirror_mode": {
    "name": "ipython",
    "version": 3
   },
   "file_extension": ".py",
   "mimetype": "text/x-python",
   "name": "python",
   "nbconvert_exporter": "python",
   "pygments_lexer": "ipython3",
   "version": "3.11.1"
  }
 },
 "nbformat": 4,
 "nbformat_minor": 2
}
